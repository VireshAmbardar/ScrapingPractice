{
  "nbformat": 4,
  "nbformat_minor": 0,
  "metadata": {
    "colab": {
      "provenance": [],
      "authorship_tag": "ABX9TyO6fBy1T2oCvmnXdZaK8lrP",
      "include_colab_link": true
    },
    "kernelspec": {
      "name": "python3",
      "display_name": "Python 3"
    },
    "language_info": {
      "name": "python"
    }
  },
  "cells": [
    {
      "cell_type": "markdown",
      "metadata": {
        "id": "view-in-github",
        "colab_type": "text"
      },
      "source": [
        "<a href=\"https://colab.research.google.com/github/VireshAmbardar/ScrapingPractice/blob/main/4.ipynb\" target=\"_parent\"><img src=\"https://colab.research.google.com/assets/colab-badge.svg\" alt=\"Open In Colab\"/></a>"
      ]
    },
    {
      "cell_type": "markdown",
      "source": [
        "# In this file we will try to extract quote and aurthor from website and save it in a csv file."
      ],
      "metadata": {
        "id": "BWOIf-VMzsS5"
      }
    },
    {
      "cell_type": "code",
      "source": [
        "import requests\n",
        "\n",
        "res = requests.get('https://quotes.toscrape.com/page/1/') # for 1st page 1st then for n pages\n",
        "html = res.text"
      ],
      "metadata": {
        "id": "97yNvUEK0GT2"
      },
      "execution_count": 2,
      "outputs": []
    },
    {
      "cell_type": "code",
      "source": [
        "print(html)"
      ],
      "metadata": {
        "colab": {
          "base_uri": "https://localhost:8080/"
        },
        "id": "yLwhW33u0dqU",
        "outputId": "575e347f-f1a3-4174-a391-0eac330c0132"
      },
      "execution_count": 4,
      "outputs": [
        {
          "output_type": "stream",
          "name": "stdout",
          "text": [
            "<!DOCTYPE html>\n",
            "<html lang=\"en\">\n",
            "<head>\n",
            "\t<meta charset=\"UTF-8\">\n",
            "\t<title>Quotes to Scrape</title>\n",
            "    <link rel=\"stylesheet\" href=\"/static/bootstrap.min.css\">\n",
            "    <link rel=\"stylesheet\" href=\"/static/main.css\">\n",
            "</head>\n",
            "<body>\n",
            "    <div class=\"container\">\n",
            "        <div class=\"row header-box\">\n",
            "            <div class=\"col-md-8\">\n",
            "                <h1>\n",
            "                    <a href=\"/\" style=\"text-decoration: none\">Quotes to Scrape</a>\n",
            "                </h1>\n",
            "            </div>\n",
            "            <div class=\"col-md-4\">\n",
            "                <p>\n",
            "                \n",
            "                    <a href=\"/login\">Login</a>\n",
            "                \n",
            "                </p>\n",
            "            </div>\n",
            "        </div>\n",
            "    \n",
            "\n",
            "<div class=\"row\">\n",
            "    <div class=\"col-md-8\">\n",
            "\n",
            "    <div class=\"quote\" itemscope itemtype=\"http://schema.org/CreativeWork\">\n",
            "        <span class=\"text\" itemprop=\"text\">“The world as we have created it is a process of our thinking. It cannot be changed without changing our thinking.”</span>\n",
            "        <span>by <small class=\"author\" itemprop=\"author\">Albert Einstein</small>\n",
            "        <a href=\"/author/Albert-Einstein\">(about)</a>\n",
            "        </span>\n",
            "        <div class=\"tags\">\n",
            "            Tags:\n",
            "            <meta class=\"keywords\" itemprop=\"keywords\" content=\"change,deep-thoughts,thinking,world\" /    > \n",
            "            \n",
            "            <a class=\"tag\" href=\"/tag/change/page/1/\">change</a>\n",
            "            \n",
            "            <a class=\"tag\" href=\"/tag/deep-thoughts/page/1/\">deep-thoughts</a>\n",
            "            \n",
            "            <a class=\"tag\" href=\"/tag/thinking/page/1/\">thinking</a>\n",
            "            \n",
            "            <a class=\"tag\" href=\"/tag/world/page/1/\">world</a>\n",
            "            \n",
            "        </div>\n",
            "    </div>\n",
            "\n",
            "    <div class=\"quote\" itemscope itemtype=\"http://schema.org/CreativeWork\">\n",
            "        <span class=\"text\" itemprop=\"text\">“It is our choices, Harry, that show what we truly are, far more than our abilities.”</span>\n",
            "        <span>by <small class=\"author\" itemprop=\"author\">J.K. Rowling</small>\n",
            "        <a href=\"/author/J-K-Rowling\">(about)</a>\n",
            "        </span>\n",
            "        <div class=\"tags\">\n",
            "            Tags:\n",
            "            <meta class=\"keywords\" itemprop=\"keywords\" content=\"abilities,choices\" /    > \n",
            "            \n",
            "            <a class=\"tag\" href=\"/tag/abilities/page/1/\">abilities</a>\n",
            "            \n",
            "            <a class=\"tag\" href=\"/tag/choices/page/1/\">choices</a>\n",
            "            \n",
            "        </div>\n",
            "    </div>\n",
            "\n",
            "    <div class=\"quote\" itemscope itemtype=\"http://schema.org/CreativeWork\">\n",
            "        <span class=\"text\" itemprop=\"text\">“There are only two ways to live your life. One is as though nothing is a miracle. The other is as though everything is a miracle.”</span>\n",
            "        <span>by <small class=\"author\" itemprop=\"author\">Albert Einstein</small>\n",
            "        <a href=\"/author/Albert-Einstein\">(about)</a>\n",
            "        </span>\n",
            "        <div class=\"tags\">\n",
            "            Tags:\n",
            "            <meta class=\"keywords\" itemprop=\"keywords\" content=\"inspirational,life,live,miracle,miracles\" /    > \n",
            "            \n",
            "            <a class=\"tag\" href=\"/tag/inspirational/page/1/\">inspirational</a>\n",
            "            \n",
            "            <a class=\"tag\" href=\"/tag/life/page/1/\">life</a>\n",
            "            \n",
            "            <a class=\"tag\" href=\"/tag/live/page/1/\">live</a>\n",
            "            \n",
            "            <a class=\"tag\" href=\"/tag/miracle/page/1/\">miracle</a>\n",
            "            \n",
            "            <a class=\"tag\" href=\"/tag/miracles/page/1/\">miracles</a>\n",
            "            \n",
            "        </div>\n",
            "    </div>\n",
            "\n",
            "    <div class=\"quote\" itemscope itemtype=\"http://schema.org/CreativeWork\">\n",
            "        <span class=\"text\" itemprop=\"text\">“The person, be it gentleman or lady, who has not pleasure in a good novel, must be intolerably stupid.”</span>\n",
            "        <span>by <small class=\"author\" itemprop=\"author\">Jane Austen</small>\n",
            "        <a href=\"/author/Jane-Austen\">(about)</a>\n",
            "        </span>\n",
            "        <div class=\"tags\">\n",
            "            Tags:\n",
            "            <meta class=\"keywords\" itemprop=\"keywords\" content=\"aliteracy,books,classic,humor\" /    > \n",
            "            \n",
            "            <a class=\"tag\" href=\"/tag/aliteracy/page/1/\">aliteracy</a>\n",
            "            \n",
            "            <a class=\"tag\" href=\"/tag/books/page/1/\">books</a>\n",
            "            \n",
            "            <a class=\"tag\" href=\"/tag/classic/page/1/\">classic</a>\n",
            "            \n",
            "            <a class=\"tag\" href=\"/tag/humor/page/1/\">humor</a>\n",
            "            \n",
            "        </div>\n",
            "    </div>\n",
            "\n",
            "    <div class=\"quote\" itemscope itemtype=\"http://schema.org/CreativeWork\">\n",
            "        <span class=\"text\" itemprop=\"text\">“Imperfection is beauty, madness is genius and it&#39;s better to be absolutely ridiculous than absolutely boring.”</span>\n",
            "        <span>by <small class=\"author\" itemprop=\"author\">Marilyn Monroe</small>\n",
            "        <a href=\"/author/Marilyn-Monroe\">(about)</a>\n",
            "        </span>\n",
            "        <div class=\"tags\">\n",
            "            Tags:\n",
            "            <meta class=\"keywords\" itemprop=\"keywords\" content=\"be-yourself,inspirational\" /    > \n",
            "            \n",
            "            <a class=\"tag\" href=\"/tag/be-yourself/page/1/\">be-yourself</a>\n",
            "            \n",
            "            <a class=\"tag\" href=\"/tag/inspirational/page/1/\">inspirational</a>\n",
            "            \n",
            "        </div>\n",
            "    </div>\n",
            "\n",
            "    <div class=\"quote\" itemscope itemtype=\"http://schema.org/CreativeWork\">\n",
            "        <span class=\"text\" itemprop=\"text\">“Try not to become a man of success. Rather become a man of value.”</span>\n",
            "        <span>by <small class=\"author\" itemprop=\"author\">Albert Einstein</small>\n",
            "        <a href=\"/author/Albert-Einstein\">(about)</a>\n",
            "        </span>\n",
            "        <div class=\"tags\">\n",
            "            Tags:\n",
            "            <meta class=\"keywords\" itemprop=\"keywords\" content=\"adulthood,success,value\" /    > \n",
            "            \n",
            "            <a class=\"tag\" href=\"/tag/adulthood/page/1/\">adulthood</a>\n",
            "            \n",
            "            <a class=\"tag\" href=\"/tag/success/page/1/\">success</a>\n",
            "            \n",
            "            <a class=\"tag\" href=\"/tag/value/page/1/\">value</a>\n",
            "            \n",
            "        </div>\n",
            "    </div>\n",
            "\n",
            "    <div class=\"quote\" itemscope itemtype=\"http://schema.org/CreativeWork\">\n",
            "        <span class=\"text\" itemprop=\"text\">“It is better to be hated for what you are than to be loved for what you are not.”</span>\n",
            "        <span>by <small class=\"author\" itemprop=\"author\">André Gide</small>\n",
            "        <a href=\"/author/Andre-Gide\">(about)</a>\n",
            "        </span>\n",
            "        <div class=\"tags\">\n",
            "            Tags:\n",
            "            <meta class=\"keywords\" itemprop=\"keywords\" content=\"life,love\" /    > \n",
            "            \n",
            "            <a class=\"tag\" href=\"/tag/life/page/1/\">life</a>\n",
            "            \n",
            "            <a class=\"tag\" href=\"/tag/love/page/1/\">love</a>\n",
            "            \n",
            "        </div>\n",
            "    </div>\n",
            "\n",
            "    <div class=\"quote\" itemscope itemtype=\"http://schema.org/CreativeWork\">\n",
            "        <span class=\"text\" itemprop=\"text\">“I have not failed. I&#39;ve just found 10,000 ways that won&#39;t work.”</span>\n",
            "        <span>by <small class=\"author\" itemprop=\"author\">Thomas A. Edison</small>\n",
            "        <a href=\"/author/Thomas-A-Edison\">(about)</a>\n",
            "        </span>\n",
            "        <div class=\"tags\">\n",
            "            Tags:\n",
            "            <meta class=\"keywords\" itemprop=\"keywords\" content=\"edison,failure,inspirational,paraphrased\" /    > \n",
            "            \n",
            "            <a class=\"tag\" href=\"/tag/edison/page/1/\">edison</a>\n",
            "            \n",
            "            <a class=\"tag\" href=\"/tag/failure/page/1/\">failure</a>\n",
            "            \n",
            "            <a class=\"tag\" href=\"/tag/inspirational/page/1/\">inspirational</a>\n",
            "            \n",
            "            <a class=\"tag\" href=\"/tag/paraphrased/page/1/\">paraphrased</a>\n",
            "            \n",
            "        </div>\n",
            "    </div>\n",
            "\n",
            "    <div class=\"quote\" itemscope itemtype=\"http://schema.org/CreativeWork\">\n",
            "        <span class=\"text\" itemprop=\"text\">“A woman is like a tea bag; you never know how strong it is until it&#39;s in hot water.”</span>\n",
            "        <span>by <small class=\"author\" itemprop=\"author\">Eleanor Roosevelt</small>\n",
            "        <a href=\"/author/Eleanor-Roosevelt\">(about)</a>\n",
            "        </span>\n",
            "        <div class=\"tags\">\n",
            "            Tags:\n",
            "            <meta class=\"keywords\" itemprop=\"keywords\" content=\"misattributed-eleanor-roosevelt\" /    > \n",
            "            \n",
            "            <a class=\"tag\" href=\"/tag/misattributed-eleanor-roosevelt/page/1/\">misattributed-eleanor-roosevelt</a>\n",
            "            \n",
            "        </div>\n",
            "    </div>\n",
            "\n",
            "    <div class=\"quote\" itemscope itemtype=\"http://schema.org/CreativeWork\">\n",
            "        <span class=\"text\" itemprop=\"text\">“A day without sunshine is like, you know, night.”</span>\n",
            "        <span>by <small class=\"author\" itemprop=\"author\">Steve Martin</small>\n",
            "        <a href=\"/author/Steve-Martin\">(about)</a>\n",
            "        </span>\n",
            "        <div class=\"tags\">\n",
            "            Tags:\n",
            "            <meta class=\"keywords\" itemprop=\"keywords\" content=\"humor,obvious,simile\" /    > \n",
            "            \n",
            "            <a class=\"tag\" href=\"/tag/humor/page/1/\">humor</a>\n",
            "            \n",
            "            <a class=\"tag\" href=\"/tag/obvious/page/1/\">obvious</a>\n",
            "            \n",
            "            <a class=\"tag\" href=\"/tag/simile/page/1/\">simile</a>\n",
            "            \n",
            "        </div>\n",
            "    </div>\n",
            "\n",
            "    <nav>\n",
            "        <ul class=\"pager\">\n",
            "            \n",
            "            \n",
            "            <li class=\"next\">\n",
            "                <a href=\"/page/2/\">Next <span aria-hidden=\"true\">&rarr;</span></a>\n",
            "            </li>\n",
            "            \n",
            "        </ul>\n",
            "    </nav>\n",
            "    </div>\n",
            "    <div class=\"col-md-4 tags-box\">\n",
            "        \n",
            "            <h2>Top Ten tags</h2>\n",
            "            \n",
            "            <span class=\"tag-item\">\n",
            "            <a class=\"tag\" style=\"font-size: 28px\" href=\"/tag/love/\">love</a>\n",
            "            </span>\n",
            "            \n",
            "            <span class=\"tag-item\">\n",
            "            <a class=\"tag\" style=\"font-size: 26px\" href=\"/tag/inspirational/\">inspirational</a>\n",
            "            </span>\n",
            "            \n",
            "            <span class=\"tag-item\">\n",
            "            <a class=\"tag\" style=\"font-size: 26px\" href=\"/tag/life/\">life</a>\n",
            "            </span>\n",
            "            \n",
            "            <span class=\"tag-item\">\n",
            "            <a class=\"tag\" style=\"font-size: 24px\" href=\"/tag/humor/\">humor</a>\n",
            "            </span>\n",
            "            \n",
            "            <span class=\"tag-item\">\n",
            "            <a class=\"tag\" style=\"font-size: 22px\" href=\"/tag/books/\">books</a>\n",
            "            </span>\n",
            "            \n",
            "            <span class=\"tag-item\">\n",
            "            <a class=\"tag\" style=\"font-size: 14px\" href=\"/tag/reading/\">reading</a>\n",
            "            </span>\n",
            "            \n",
            "            <span class=\"tag-item\">\n",
            "            <a class=\"tag\" style=\"font-size: 10px\" href=\"/tag/friendship/\">friendship</a>\n",
            "            </span>\n",
            "            \n",
            "            <span class=\"tag-item\">\n",
            "            <a class=\"tag\" style=\"font-size: 8px\" href=\"/tag/friends/\">friends</a>\n",
            "            </span>\n",
            "            \n",
            "            <span class=\"tag-item\">\n",
            "            <a class=\"tag\" style=\"font-size: 8px\" href=\"/tag/truth/\">truth</a>\n",
            "            </span>\n",
            "            \n",
            "            <span class=\"tag-item\">\n",
            "            <a class=\"tag\" style=\"font-size: 6px\" href=\"/tag/simile/\">simile</a>\n",
            "            </span>\n",
            "            \n",
            "        \n",
            "    </div>\n",
            "</div>\n",
            "\n",
            "    </div>\n",
            "    <footer class=\"footer\">\n",
            "        <div class=\"container\">\n",
            "            <p class=\"text-muted\">\n",
            "                Quotes by: <a href=\"https://www.goodreads.com/quotes\">GoodReads.com</a>\n",
            "            </p>\n",
            "            <p class=\"copyright\">\n",
            "                Made with <span class='sh-red'>❤</span> by <a href=\"https://scrapinghub.com\">Scrapinghub</a>\n",
            "            </p>\n",
            "        </div>\n",
            "    </footer>\n",
            "</body>\n",
            "</html>\n"
          ]
        }
      ]
    },
    {
      "cell_type": "code",
      "source": [
        "# so here we have 2 targets .. 1 st quote, 2nd aurthor ..\n",
        "# quotes\n",
        "for lines in html.split('\\n'):\n",
        "  if '<span class=\"text\" itemprop=\"text\">' in lines:\n",
        "    quotes = lines.replace('<span class=\"text\" itemprop=\"text\">','').replace('</span>','').strip()\n",
        "    print(quotes)"
      ],
      "metadata": {
        "colab": {
          "base_uri": "https://localhost:8080/"
        },
        "id": "cCp4_8oe2PaG",
        "outputId": "fb6e585b-f9f9-40d5-b69e-3ef7b042eab0"
      },
      "execution_count": 12,
      "outputs": [
        {
          "output_type": "stream",
          "name": "stdout",
          "text": [
            "“The world as we have created it is a process of our thinking. It cannot be changed without changing our thinking.”\n",
            "“It is our choices, Harry, that show what we truly are, far more than our abilities.”\n",
            "“There are only two ways to live your life. One is as though nothing is a miracle. The other is as though everything is a miracle.”\n",
            "“The person, be it gentleman or lady, who has not pleasure in a good novel, must be intolerably stupid.”\n",
            "“Imperfection is beauty, madness is genius and it&#39;s better to be absolutely ridiculous than absolutely boring.”\n",
            "“Try not to become a man of success. Rather become a man of value.”\n",
            "“It is better to be hated for what you are than to be loved for what you are not.”\n",
            "“I have not failed. I&#39;ve just found 10,000 ways that won&#39;t work.”\n",
            "“A woman is like a tea bag; you never know how strong it is until it&#39;s in hot water.”\n",
            "“A day without sunshine is like, you know, night.”\n"
          ]
        }
      ]
    },
    {
      "cell_type": "code",
      "source": [
        "#aurhtors\n",
        "for lines in html.split('\\n'):\n",
        "  if '<span>by <small class=\"author\" itemprop=\"author\">' in lines:\n",
        "    aurthor = lines.replace('<span>by <small class=\"author\" itemprop=\"author\">','').replace('</small>','').strip()\n",
        "    print(aurthor)\n"
      ],
      "metadata": {
        "colab": {
          "base_uri": "https://localhost:8080/"
        },
        "id": "S5dTO00G0q9-",
        "outputId": "f5ea7c9a-f272-42db-82e5-8d3d37199830"
      },
      "execution_count": 13,
      "outputs": [
        {
          "output_type": "stream",
          "name": "stdout",
          "text": [
            "Albert Einstein\n",
            "J.K. Rowling\n",
            "Albert Einstein\n",
            "Jane Austen\n",
            "Marilyn Monroe\n",
            "Albert Einstein\n",
            "André Gide\n",
            "Thomas A. Edison\n",
            "Eleanor Roosevelt\n",
            "Steve Martin\n"
          ]
        }
      ]
    },
    {
      "cell_type": "code",
      "source": [
        "# combinign both of them\n",
        "\n",
        "for lines in html.split('\\n'):\n",
        "  #Quotes\n",
        "  if '<span class=\"text\" itemprop=\"text\">' in lines:\n",
        "    quotes = lines.replace('<span class=\"text\" itemprop=\"text\">','').replace('</span>','').strip()\n",
        "    print(quotes)\n",
        "\n",
        "  \n",
        "  #Aurtors\n",
        "  if '<span>by <small class=\"author\" itemprop=\"author\">' in lines:\n",
        "    aurthor = lines.replace('<span>by <small class=\"author\" itemprop=\"author\">','').replace('</small>','').strip()\n",
        "    print(aurthor)\n",
        " \n",
        "  # the easy way would be\n"
      ],
      "metadata": {
        "id": "8PnOettq3ul4"
      },
      "execution_count": null,
      "outputs": []
    },
    {
      "cell_type": "code",
      "source": [
        "with open('Quotes wiht Aurthor names.csv','w') as f:\n",
        "\n",
        "\n",
        "  for lines in html.split('\\n'):\n",
        "  #Quotes\n",
        "    if '<span class=\"text\" itemprop=\"text\">' in lines:\n",
        "      quotes = lines.replace('<span class=\"text\" itemprop=\"text\">','').replace('</span>','').strip()\n",
        "      print(quotes)\n",
        "\n",
        "  \n",
        "  #Autors\n",
        "    if '<span>by <small class=\"author\" itemprop=\"author\">' in lines:\n",
        "       author = lines.replace('<span>by <small class=\"author\" itemprop=\"author\">','').replace('</small>','').strip()\n",
        "       print(author)\n",
        "\n",
        "       f.write(author + \":-\" + quotes)  # aurthor will save in 1st column and quotes in 2nd column\n",
        "       f.write('\\n')"
      ],
      "metadata": {
        "colab": {
          "base_uri": "https://localhost:8080/"
        },
        "id": "XckEsbZH5ugW",
        "outputId": "8abf37b7-ee33-40ab-cba2-3aad723d57fa"
      },
      "execution_count": 16,
      "outputs": [
        {
          "output_type": "stream",
          "name": "stdout",
          "text": [
            "“The world as we have created it is a process of our thinking. It cannot be changed without changing our thinking.”\n",
            "Albert Einstein\n",
            "“It is our choices, Harry, that show what we truly are, far more than our abilities.”\n",
            "J.K. Rowling\n",
            "“There are only two ways to live your life. One is as though nothing is a miracle. The other is as though everything is a miracle.”\n",
            "Albert Einstein\n",
            "“The person, be it gentleman or lady, who has not pleasure in a good novel, must be intolerably stupid.”\n",
            "Jane Austen\n",
            "“Imperfection is beauty, madness is genius and it&#39;s better to be absolutely ridiculous than absolutely boring.”\n",
            "Marilyn Monroe\n",
            "“Try not to become a man of success. Rather become a man of value.”\n",
            "Albert Einstein\n",
            "“It is better to be hated for what you are than to be loved for what you are not.”\n",
            "André Gide\n",
            "“I have not failed. I&#39;ve just found 10,000 ways that won&#39;t work.”\n",
            "Thomas A. Edison\n",
            "“A woman is like a tea bag; you never know how strong it is until it&#39;s in hot water.”\n",
            "Eleanor Roosevelt\n",
            "“A day without sunshine is like, you know, night.”\n",
            "Steve Martin\n"
          ]
        }
      ]
    },
    {
      "cell_type": "markdown",
      "source": [
        "## Now lets run it for 10 pages"
      ],
      "metadata": {
        "id": "nsFolQRo6_11"
      }
    },
    {
      "cell_type": "code",
      "source": [
        "for i in range(1,11):\n",
        "  req = requests.get('https://quotes.toscrape.com/page/{}/'.format(i))\n",
        "  print(req.url)"
      ],
      "metadata": {
        "colab": {
          "base_uri": "https://localhost:8080/"
        },
        "id": "PBJ7P1CU7E6m",
        "outputId": "ad41d213-b749-48c5-a42c-5e5edb788d71"
      },
      "execution_count": 18,
      "outputs": [
        {
          "output_type": "stream",
          "name": "stdout",
          "text": [
            "https://quotes.toscrape.com/page/1/\n",
            "https://quotes.toscrape.com/page/2/\n",
            "https://quotes.toscrape.com/page/3/\n",
            "https://quotes.toscrape.com/page/4/\n",
            "https://quotes.toscrape.com/page/5/\n",
            "https://quotes.toscrape.com/page/6/\n",
            "https://quotes.toscrape.com/page/7/\n",
            "https://quotes.toscrape.com/page/8/\n",
            "https://quotes.toscrape.com/page/9/\n",
            "https://quotes.toscrape.com/page/10/\n"
          ]
        }
      ]
    },
    {
      "cell_type": "code",
      "source": [
        "# so we are good to go\n",
        "\n",
        "#opening file\n",
        "with open('All Quotes wiht all Aurthor Names.csv','w') as f:\n",
        "\n",
        "  for i in range(1,11):\n",
        "    req = requests.get('https://quotes.toscrape.com/page/{}/'.format(i))\n",
        "\n",
        "    for lines in html.split('\\n'):\n",
        "  #Quotes\n",
        "      if '<span class=\"text\" itemprop=\"text\">' in lines:\n",
        "        quotes = lines.replace('<span class=\"text\" itemprop=\"text\">','').replace('</span>','').strip()\n",
        "  \n",
        "  #Autors\n",
        "      if '<span>by <small class=\"author\" itemprop=\"author\">' in lines:\n",
        "        author = lines.replace('<span>by <small class=\"author\" itemprop=\"author\">','').replace('</small>','').strip()\n",
        "\n",
        "        f.write(author + \":-\" + quotes)  # aurthor will save in 1st column and quotes in 2nd column\n",
        "        f.write('\\n')"
      ],
      "metadata": {
        "id": "U8XPq6P87bj1"
      },
      "execution_count": 19,
      "outputs": []
    },
    {
      "cell_type": "markdown",
      "source": [
        "# Success"
      ],
      "metadata": {
        "id": "wLgUrK9U8iiF"
      }
    }
  ]
}