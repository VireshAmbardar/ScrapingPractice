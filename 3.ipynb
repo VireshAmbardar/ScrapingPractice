{
  "nbformat": 4,
  "nbformat_minor": 0,
  "metadata": {
    "colab": {
      "provenance": [],
      "authorship_tag": "ABX9TyOeiXVCOZ1EVtzb7FJJlpdJ",
      "include_colab_link": true
    },
    "kernelspec": {
      "name": "python3",
      "display_name": "Python 3"
    },
    "language_info": {
      "name": "python"
    }
  },
  "cells": [
    {
      "cell_type": "markdown",
      "metadata": {
        "id": "view-in-github",
        "colab_type": "text"
      },
      "source": [
        "<a href=\"https://colab.research.google.com/github/VireshAmbardar/ScrapingPractice/blob/main/3.ipynb\" target=\"_parent\"><img src=\"https://colab.research.google.com/assets/colab-badge.svg\" alt=\"Open In Colab\"/></a>"
      ]
    },
    {
      "cell_type": "code",
      "execution_count": 1,
      "metadata": {
        "colab": {
          "base_uri": "https://localhost:8080/"
        },
        "id": "RoHnfLGTs8EH",
        "outputId": "4eec3663-481c-43a6-c241-e106cb628596"
      },
      "outputs": [
        {
          "output_type": "execute_result",
          "data": {
            "text/plain": [
              "200"
            ]
          },
          "metadata": {},
          "execution_count": 1
        }
      ],
      "source": [
        "import requests\n",
        "\n",
        "r = requests.get('https://quotes.toscrape.com/page/1/)\n",
        "r.status_code\n",
        "\n",
        "# but URl of 2nd page is https://quotes.toscrape.com/page/2/\n",
        "# so this is a issue.  lets ee how to tackle this\n",
        "\n"
      ]
    },
    {
      "cell_type": "code",
      "source": [
        "# so here we just have to rum the pages in a for floop thats it\n",
        "\n",
        "# opening file first\n",
        "with open('Aurthors.txt','w') as f:\n",
        "  for i in range(1,11):\n",
        "    r = requests.get('https://quotes.toscrape.com/page/{}'.format(i))\n",
        "    html = r.text.split('\\n')\n",
        "\n",
        "    target = '<span>by <small class=\"author\" itemprop=\"author\">'\n",
        "\n",
        "    for lines in html:\n",
        "      if target in lines:\n",
        "        lines = lines.replace('<span>by <small class=\"author\" itemprop=\"author\">','').replace('</small>','').strip()\n",
        "        print(lines)\n"
      ],
      "metadata": {
        "colab": {
          "base_uri": "https://localhost:8080/"
        },
        "id": "WboO4SirtV1I",
        "outputId": "3a9f865b-94a8-4465-9223-9f05963d7fea"
      },
      "execution_count": 7,
      "outputs": [
        {
          "output_type": "stream",
          "name": "stdout",
          "text": [
            "Albert Einstein\n",
            "J.K. Rowling\n",
            "Albert Einstein\n",
            "Jane Austen\n",
            "Marilyn Monroe\n",
            "Albert Einstein\n",
            "André Gide\n",
            "Thomas A. Edison\n",
            "Eleanor Roosevelt\n",
            "Steve Martin\n",
            "Marilyn Monroe\n",
            "J.K. Rowling\n",
            "Albert Einstein\n",
            "Bob Marley\n",
            "Dr. Seuss\n",
            "Douglas Adams\n",
            "Elie Wiesel\n",
            "Friedrich Nietzsche\n",
            "Mark Twain\n",
            "Allen Saunders\n",
            "Pablo Neruda\n",
            "Ralph Waldo Emerson\n",
            "Mother Teresa\n",
            "Garrison Keillor\n",
            "Jim Henson\n",
            "Dr. Seuss\n",
            "Albert Einstein\n",
            "J.K. Rowling\n",
            "Albert Einstein\n",
            "Bob Marley\n",
            "Dr. Seuss\n",
            "J.K. Rowling\n",
            "Bob Marley\n",
            "Mother Teresa\n",
            "J.K. Rowling\n",
            "Charles M. Schulz\n",
            "William Nicholson\n",
            "Albert Einstein\n",
            "Jorge Luis Borges\n",
            "George Eliot\n",
            "George R.R. Martin\n",
            "C.S. Lewis\n",
            "Marilyn Monroe\n",
            "Marilyn Monroe\n",
            "Albert Einstein\n",
            "Marilyn Monroe\n",
            "Marilyn Monroe\n",
            "Martin Luther King Jr.\n",
            "J.K. Rowling\n",
            "James Baldwin\n",
            "Jane Austen\n",
            "Eleanor Roosevelt\n",
            "Marilyn Monroe\n",
            "Albert Einstein\n",
            "Haruki Murakami\n",
            "Alexandre Dumas fils\n",
            "Stephenie Meyer\n",
            "Ernest Hemingway\n",
            "Helen Keller\n",
            "George Bernard Shaw\n",
            "Charles Bukowski\n",
            "Suzanne Collins\n",
            "Suzanne Collins\n",
            "C.S. Lewis\n",
            "J.R.R. Tolkien\n",
            "J.K. Rowling\n",
            "Ernest Hemingway\n",
            "Ralph Waldo Emerson\n",
            "Mark Twain\n",
            "Dr. Seuss\n",
            "Alfred Tennyson\n",
            "Charles Bukowski\n",
            "Terry Pratchett\n",
            "Dr. Seuss\n",
            "J.D. Salinger\n",
            "George Carlin\n",
            "John Lennon\n",
            "W.C. Fields\n",
            "Ayn Rand\n",
            "Mark Twain\n",
            "Albert Einstein\n",
            "Jane Austen\n",
            "J.K. Rowling\n",
            "Jane Austen\n",
            "Jane Austen\n",
            "C.S. Lewis\n",
            "C.S. Lewis\n",
            "Mark Twain\n",
            "Mark Twain\n",
            "C.S. Lewis\n",
            "J.K. Rowling\n",
            "Jimi Hendrix\n",
            "J.M. Barrie\n",
            "E.E. Cummings\n",
            "Khaled Hosseini\n",
            "Harper Lee\n",
            "Madeleine L&#39;Engle\n",
            "Mark Twain\n",
            "Dr. Seuss\n",
            "George R.R. Martin\n"
          ]
        }
      ]
    },
    {
      "cell_type": "code",
      "source": [
        "# doing seperately so i can back track\n",
        "with open('Aurthors.txt','w') as f:\n",
        "  for i in range(1,11):\n",
        "    r = requests.get('https://quotes.toscrape.com/page/{}'.format(i))\n",
        "    html = r.text.split('\\n')\n",
        "\n",
        "    target = '<span>by <small class=\"author\" itemprop=\"author\">'\n",
        "\n",
        "    for lines in html:\n",
        "      if target in lines:\n",
        "        lines = lines.replace('<span>by <small class=\"author\" itemprop=\"author\">','').replace('</small>','').strip()\n",
        "        f.write(lines)\n",
        "        f.write('\\n')"
      ],
      "metadata": {
        "id": "AF6U-UP0yRg5"
      },
      "execution_count": 9,
      "outputs": []
    },
    {
      "cell_type": "markdown",
      "source": [
        " # SUCCESS"
      ],
      "metadata": {
        "id": "8ryehfs-yovx"
      }
    }
  ]
}