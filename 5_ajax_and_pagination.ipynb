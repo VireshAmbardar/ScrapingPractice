{
  "nbformat": 4,
  "nbformat_minor": 0,
  "metadata": {
    "colab": {
      "provenance": [],
      "collapsed_sections": [],
      "authorship_tag": "ABX9TyM9Lmo+RvmiJ+bJJlhp+f7u",
      "include_colab_link": true
    },
    "kernelspec": {
      "name": "python3",
      "display_name": "Python 3"
    },
    "language_info": {
      "name": "python"
    },
    "gpuClass": "standard",
    "accelerator": "GPU"
  },
  "cells": [
    {
      "cell_type": "markdown",
      "metadata": {
        "id": "view-in-github",
        "colab_type": "text"
      },
      "source": [
        "<a href=\"https://colab.research.google.com/github/VireshAmbardar/ScrapingPractice/blob/main/5_ajax_and_pagination.ipynb\" target=\"_parent\"><img src=\"https://colab.research.google.com/assets/colab-badge.svg\" alt=\"Open In Colab\"/></a>"
      ]
    },
    {
      "cell_type": "code",
      "execution_count": null,
      "metadata": {
        "id": "oZiunaYIBOPA"
      },
      "outputs": [],
      "source": [
        "# Pagination means when we use for loop to bring data in - like a quote \n",
        "\n",
        "# ajax means url remains same but as u scroll down the feeds keep comming up like fb-feeds , instagram"
      ]
    },
    {
      "cell_type": "code",
      "source": [
        "# target rurl is https://www.espncricinfo.com/latest-cricket-news\n",
        "# we can cahnge it to https://www.espncricinfo.com/latest-cricket-news?page=1\n",
        "\n",
        "# press F12 thne network, copy jason file name starting with index.\n",
        "# open online jason editor https://jsoneditoronline.org/#left=local.nexice&right=local.tuboxu it shows the sequence of arrangement of data arranged in jason gile"
      ],
      "metadata": {
        "id": "4N1eiGh4B822"
      },
      "execution_count": null,
      "outputs": []
    },
    {
      "cell_type": "code",
      "source": [
        "#cpu model and sped for colab\n",
        "\n",
        "from psutil import *\n",
        "\n",
        "!lscpu |grep 'Model name'"
      ],
      "metadata": {
        "colab": {
          "base_uri": "https://localhost:8080/"
        },
        "id": "YFcPS1IDRWuG",
        "outputId": "47e8c7a3-46fd-4e27-fe29-3eea68895619"
      },
      "execution_count": null,
      "outputs": [
        {
          "output_type": "stream",
          "name": "stdout",
          "text": [
            "Model name:          Intel(R) Xeon(R) CPU @ 2.20GHz\n"
          ]
        }
      ]
    },
    {
      "cell_type": "code",
      "source": [
        "#useable HDD Space\n",
        "!df -h / | awk '{print $4}'"
      ],
      "metadata": {
        "colab": {
          "base_uri": "https://localhost:8080/"
        },
        "id": "o88vmEqLRhJ3",
        "outputId": "8b2623b6-1b23-4c92-cd8a-702c0202890b"
      },
      "execution_count": null,
      "outputs": [
        {
          "output_type": "stream",
          "name": "stdout",
          "text": [
            "Avail\n",
            "41G\n"
          ]
        }
      ]
    },
    {
      "cell_type": "code",
      "source": [
        "#useable memory\n",
        "#memory that can we use\n",
        "!free -h --si | awk '/Mem: /{print $2}'"
      ],
      "metadata": {
        "colab": {
          "base_uri": "https://localhost:8080/"
        },
        "id": "4RDIK0PJSbFL",
        "outputId": "26d4e331-e142-4640-eb26-3b10b3463f6c"
      },
      "execution_count": null,
      "outputs": [
        {
          "output_type": "stream",
          "name": "stdout",
          "text": [
            "13G\n"
          ]
        }
      ]
    },
    {
      "cell_type": "code",
      "source": [
        "#Gpu Type\n",
        "!nvidia-smi -L"
      ],
      "metadata": {
        "colab": {
          "base_uri": "https://localhost:8080/"
        },
        "id": "W0Chp1qZSzN7",
        "outputId": "e067c506-2470-4b1d-90da-492ede810a1b"
      },
      "execution_count": null,
      "outputs": [
        {
          "output_type": "stream",
          "name": "stdout",
          "text": [
            "GPU 0: Tesla T4 (UUID: GPU-69d094fa-262b-8f33-4d58-46f119ee3aa3)\n"
          ]
        }
      ]
    },
    {
      "cell_type": "code",
      "source": [
        "# Gpu specs\n",
        "!nvidia-smi"
      ],
      "metadata": {
        "colab": {
          "base_uri": "https://localhost:8080/"
        },
        "id": "1ml0YIBcS_Vr",
        "outputId": "29e546d7-9bcc-4a2e-c963-c7fc21ae4fa3"
      },
      "execution_count": null,
      "outputs": [
        {
          "output_type": "stream",
          "name": "stdout",
          "text": [
            "Sun Sep 11 20:48:03 2022       \n",
            "+-----------------------------------------------------------------------------+\n",
            "| NVIDIA-SMI 460.32.03    Driver Version: 460.32.03    CUDA Version: 11.2     |\n",
            "|-------------------------------+----------------------+----------------------+\n",
            "| GPU  Name        Persistence-M| Bus-Id        Disp.A | Volatile Uncorr. ECC |\n",
            "| Fan  Temp  Perf  Pwr:Usage/Cap|         Memory-Usage | GPU-Util  Compute M. |\n",
            "|                               |                      |               MIG M. |\n",
            "|===============================+======================+======================|\n",
            "|   0  Tesla T4            Off  | 00000000:00:04.0 Off |                    0 |\n",
            "| N/A   36C    P8     9W /  70W |      0MiB / 15109MiB |      0%      Default |\n",
            "|                               |                      |                  N/A |\n",
            "+-------------------------------+----------------------+----------------------+\n",
            "                                                                               \n",
            "+-----------------------------------------------------------------------------+\n",
            "| Processes:                                                                  |\n",
            "|  GPU   GI   CI        PID   Type   Process name                  GPU Memory |\n",
            "|        ID   ID                                                   Usage      |\n",
            "|=============================================================================|\n",
            "|  No running processes found                                                 |\n",
            "+-----------------------------------------------------------------------------+\n"
          ]
        }
      ]
    },
    {
      "cell_type": "code",
      "source": [
        "import requests\n",
        "\n",
        "url = 'https://www.espncricinfo.com/ci/content/story/data/index.json?genere=706;;page=1'\n",
        "res = requests.get(url)\n",
        "print(res.text)"
      ],
      "metadata": {
        "colab": {
          "base_uri": "https://localhost:8080/"
        },
        "id": "wTFMe5mPFzHg",
        "outputId": "203cb003-f137-477d-e3ec-923f7e1a93ff"
      },
      "execution_count": 11,
      "outputs": [
        {
          "output_type": "stream",
          "name": "stdout",
          "text": [
            "[{\"author\":\"Shashank Kishore\",\"author_id\":667,\"author_image\":\"/db/PICTURES/CMS/314600/314661.png\",\"author_url\":\"/ci/content/story/author.html?author=667\",\"byline\":\"Shashank Kishore\",\"date\":\"Sep 12, 2022\",\"headline\":\"Shanaka hopes Asia Cup win triggers 'the turnaround' Sri Lanka cricket needs\",\"image_path\":\"http://p.imgci.com/db/PICTURES/CMS/345800/345877.6.jpg\",\"image_path_big\":\"http://p.imgci.com/db/PICTURES/CMS/345800/345877.4.jpg\",\"object_id\":1334303,\"subheadline\":\"\",\"summary\":\"\\\"Hope we brought some smiles on the faces of our people,\\\" says man of the moment Rajapaksa\",\"type\":\"story\",\"url_component\":\"ci\"},{\"author\":\"ESPNcricinfo staff\",\"author_id\":1,\"author_image\":\"\",\"author_url\":\"\",\"byline\":\"ESPNcricinfo staff\",\"date\":\"Sep 12, 2022\",\"genrename\":\"What They Said About\",\"headline\":\"'Next target - the World Cup'\",\"image_path\":\"http://p.imgci.com/db/PICTURES/CMS/345800/345878.6.jpg\",\"image_path_big\":\"http://p.imgci.com/db/PICTURES/CMS/345800/345878.4.jpg\",\"object_id\":1334301,\"subheadline\":\"\",\"summary\":\"Sri Lankan legends were among those to shower Dasun Shanaka's team with praise\",\"type\":\"story\",\"url_component\":\"ci\"},{\"author\":\"ESPNcricinfo staff\",\"author_id\":1,\"author_image\":\"\",\"author_url\":\"\",\"byline\":\"ESPNcricinfo staff\",\"date\":\"Sep 12, 2022\",\"genrename\":\"The Buzz\",\"headline\":\"The Buzz: Dancing Sri Lanka celebrate Asia Cup victory\",\"image_path\":\"http://p.imgci.com/db/PICTURES/CMS/345800/345878.5.jpg\",\"image_path_big\":\"http://p.imgci.com/db/PICTURES/CMS/345800/345878.4.jpg\",\"object_id\":1334299,\"subheadline\":\"\",\"summary\":\"\",\"type\":\"story\",\"url_component\":\"blogs\"},{\"author\":\"Shashank Kishore\",\"author_id\":667,\"author_image\":\"/db/PICTURES/CMS/314600/314661.png\",\"author_url\":\"/ci/content/story/author.html?author=667\",\"byline\":\"Shashank Kishore\",\"date\":\"Sep 12, 2022\",\"headline\":\"Saqlain unwavering in his 'faith, trust and belief' in Rizwan and Babar\",\"image_path\":\"http://p.imgci.com/db/PICTURES/CMS/345800/345855.6.jpg\",\"image_path_big\":\"http://p.imgci.com/db/PICTURES/CMS/345800/345855.4.jpg\",\"object_id\":1334298,\"subheadline\":\"\",\"summary\":\"\\\"We reached T20 World Cup semi-finals last year, and final of the Asia Cup - you're doing something right to get here\\\"\",\"type\":\"story\",\"url_component\":\"ci\"},{\"author\":\"Sampath Bandarupalli\",\"author_id\":763,\"author_image\":\"\",\"author_url\":\"/ci/content/story/author.html?author=763\",\"byline\":\"Sampath Bandarupalli\",\"date\":\"Sep 12, 2022\",\"genrename\":\"Stats Analysis\",\"headline\":\"Stats - A rare bat-first win in Dubai, and Sri Lanka's remarkable comeback\",\"image_path\":\"http://p.imgci.com/db/PICTURES/CMS/345800/345875.5.jpg\",\"image_path_big\":\"http://p.imgci.com/db/PICTURES/CMS/345800/345875.4.jpg\",\"object_id\":1334288,\"subheadline\":\"\",\"summary\":\"All the statistical highlights from Sri Lanka's 2022 Asia Cup win\",\"type\":\"story\",\"url_component\":\"ci\"},{\"author\":\"\",\"author_id\":0,\"author_image\":\"\",\"author_url\":\"\",\"byline\":\"ECB Reporters Network\",\"date\":\"Sep 11, 2022\",\"headline\":\"Kathryn Bryce century sets up comfortable Lightning win over Sunrisers\",\"image_path\":\"http://p.imgci.com/db/PICTURES/CMS/342300/342375.5.jpg\",\"image_path_big\":\"http://p.imgci.com/db/PICTURES/CMS/342300/342375.4.jpg\",\"object_id\":1334292,\"subheadline\":\"\",\"summary\":\"Kirstie Gordon four-for derails Sunrisers after openers add 97-run stand \",\"type\":\"story\",\"url_component\":\"ci\"},{\"author\":\"Vithushan Ehantharajah\",\"author_id\":585,\"author_image\":\"/db/PICTURES/CMS/216100/216141.png\",\"author_url\":\"/ci/content/story/author.html?author=585\",\"byline\":\"Vithushan Ehantharajah\",\"date\":\"Sep 11, 2022\",\"genrename\":\"Match Analysis\",\"headline\":\"England's young punks riff off classic set from old rockers Anderson and Broad\",\"image_path\":\"http://p.imgci.com/db/PICTURES/CMS/345800/345821.5.jpg\",\"image_path_big\":\"http://p.imgci.com/db/PICTURES/CMS/345800/345821.4.jpg\",\"object_id\":1334287,\"subheadline\":\"\",\"summary\":\"Bowlers tighten up at crucial moment to allow one final Bazball blast for the summer\",\"type\":\"story\",\"url_component\":\"ci\"},{\"author\":\"Firdose Moonda\",\"author_id\":315,\"author_image\":\"\",\"author_url\":\"/ci/content/story/author.html?author=315\",\"byline\":\"Firdose Moonda\",\"date\":\"Sep 11, 2022\",\"genrename\":\"Match Analysis\",\"headline\":\"South Africa's survival guide goes out the window as Ben Stokes shows what it takes to seize the day\",\"image_path\":\"http://p.imgci.com/db/PICTURES/CMS/345800/345848.5.jpg\",\"image_path_big\":\"http://p.imgci.com/db/PICTURES/CMS/345800/345848.4.jpg\",\"object_id\":1334278,\"subheadline\":\"\",\"summary\":\"Callow batting no match for captain in a hurry to wrap up England's summer\",\"type\":\"story\",\"url_component\":\"ci\"},{\"author\":\"Andrew Miller\",\"author_id\":9,\"author_image\":\"/db/PICTURES/CMS/103600/103650.1.png\",\"author_url\":\"/ci/content/story/author.html?author=9\",\"byline\":\"Andrew Miller\",\"date\":\"Sep 11, 2022\",\"headline\":\"England frustrated but phlegmatic as bad light defers their moment of victory\",\"image_path\":\"http://p.imgci.com/db/PICTURES/CMS/345800/345874.5.jpg\",\"image_path_big\":\"http://p.imgci.com/db/PICTURES/CMS/345800/345874.4.jpg\",\"object_id\":1334274,\"subheadline\":\"\",\"summary\":\"Anderson, Broad call for common sense to prevail after openers motor towards victory target\",\"type\":\"story\",\"url_component\":\"ci\"},{\"author\":\"Danyal Rasool\",\"author_id\":689,\"author_image\":\"\",\"author_url\":\"/ci/content/story/author.html?author=689\",\"byline\":\"Danyal Rasool\",\"date\":\"Sep 11, 2022\",\"headline\":\"Rajapaksa, Hasaranga, Madushan win the Asia Cup crown for Sri Lanka\",\"image_path\":\"http://p.imgci.com/db/PICTURES/CMS/345800/345870.5.jpg\",\"image_path_big\":\"http://p.imgci.com/db/PICTURES/CMS/345800/345870.4.jpg\",\"object_id\":1334267,\"subheadline\":\"\",\"summary\":\"In the final, Pakistan were outclassed with the bat, outsmarted with the ball and outdone in the field\",\"type\":\"story\",\"url_component\":\"ci\"}]\n"
          ]
        }
      ]
    },
    {
      "cell_type": "code",
      "source": [
        "print(type(res.text))"
      ],
      "metadata": {
        "colab": {
          "base_uri": "https://localhost:8080/"
        },
        "id": "8tUYsoL7I6_p",
        "outputId": "5811c31f-7302-4905-af85-0e687c2aba55"
      },
      "execution_count": 13,
      "outputs": [
        {
          "output_type": "stream",
          "name": "stdout",
          "text": [
            "<class 'str'>\n"
          ]
        }
      ]
    },
    {
      "cell_type": "code",
      "source": [
        "# first we have to convert text into list format .. an for that\n",
        "\n",
        "import json\n",
        "data = json.loads(res.text)\n",
        "print(type(data))"
      ],
      "metadata": {
        "colab": {
          "base_uri": "https://localhost:8080/"
        },
        "id": "q1UgNRYtFzDh",
        "outputId": "79753901-f77d-4d7a-b5bd-16121ccb9c06"
      },
      "execution_count": 14,
      "outputs": [
        {
          "output_type": "stream",
          "name": "stdout",
          "text": [
            "<class 'list'>\n"
          ]
        }
      ]
    },
    {
      "cell_type": "code",
      "source": [
        "print(data)"
      ],
      "metadata": {
        "colab": {
          "base_uri": "https://localhost:8080/"
        },
        "id": "7KffRT6KQl_K",
        "outputId": "ae33046f-bee4-4b7b-f33d-4a28e913ecb9"
      },
      "execution_count": 15,
      "outputs": [
        {
          "output_type": "stream",
          "name": "stdout",
          "text": [
            "[{'author': 'Shashank Kishore', 'author_id': 667, 'author_image': '/db/PICTURES/CMS/314600/314661.png', 'author_url': '/ci/content/story/author.html?author=667', 'byline': 'Shashank Kishore', 'date': 'Sep 12, 2022', 'headline': \"Shanaka hopes Asia Cup win triggers 'the turnaround' Sri Lanka cricket needs\", 'image_path': 'http://p.imgci.com/db/PICTURES/CMS/345800/345877.6.jpg', 'image_path_big': 'http://p.imgci.com/db/PICTURES/CMS/345800/345877.4.jpg', 'object_id': 1334303, 'subheadline': '', 'summary': '\"Hope we brought some smiles on the faces of our people,\" says man of the moment Rajapaksa', 'type': 'story', 'url_component': 'ci'}, {'author': 'ESPNcricinfo staff', 'author_id': 1, 'author_image': '', 'author_url': '', 'byline': 'ESPNcricinfo staff', 'date': 'Sep 12, 2022', 'genrename': 'What They Said About', 'headline': \"'Next target - the World Cup'\", 'image_path': 'http://p.imgci.com/db/PICTURES/CMS/345800/345878.6.jpg', 'image_path_big': 'http://p.imgci.com/db/PICTURES/CMS/345800/345878.4.jpg', 'object_id': 1334301, 'subheadline': '', 'summary': \"Sri Lankan legends were among those to shower Dasun Shanaka's team with praise\", 'type': 'story', 'url_component': 'ci'}, {'author': 'ESPNcricinfo staff', 'author_id': 1, 'author_image': '', 'author_url': '', 'byline': 'ESPNcricinfo staff', 'date': 'Sep 12, 2022', 'genrename': 'The Buzz', 'headline': 'The Buzz: Dancing Sri Lanka celebrate Asia Cup victory', 'image_path': 'http://p.imgci.com/db/PICTURES/CMS/345800/345878.5.jpg', 'image_path_big': 'http://p.imgci.com/db/PICTURES/CMS/345800/345878.4.jpg', 'object_id': 1334299, 'subheadline': '', 'summary': '', 'type': 'story', 'url_component': 'blogs'}, {'author': 'Shashank Kishore', 'author_id': 667, 'author_image': '/db/PICTURES/CMS/314600/314661.png', 'author_url': '/ci/content/story/author.html?author=667', 'byline': 'Shashank Kishore', 'date': 'Sep 12, 2022', 'headline': \"Saqlain unwavering in his 'faith, trust and belief' in Rizwan and Babar\", 'image_path': 'http://p.imgci.com/db/PICTURES/CMS/345800/345855.6.jpg', 'image_path_big': 'http://p.imgci.com/db/PICTURES/CMS/345800/345855.4.jpg', 'object_id': 1334298, 'subheadline': '', 'summary': '\"We reached T20 World Cup semi-finals last year, and final of the Asia Cup - you\\'re doing something right to get here\"', 'type': 'story', 'url_component': 'ci'}, {'author': 'Sampath Bandarupalli', 'author_id': 763, 'author_image': '', 'author_url': '/ci/content/story/author.html?author=763', 'byline': 'Sampath Bandarupalli', 'date': 'Sep 12, 2022', 'genrename': 'Stats Analysis', 'headline': \"Stats - A rare bat-first win in Dubai, and Sri Lanka's remarkable comeback\", 'image_path': 'http://p.imgci.com/db/PICTURES/CMS/345800/345875.5.jpg', 'image_path_big': 'http://p.imgci.com/db/PICTURES/CMS/345800/345875.4.jpg', 'object_id': 1334288, 'subheadline': '', 'summary': \"All the statistical highlights from Sri Lanka's 2022 Asia Cup win\", 'type': 'story', 'url_component': 'ci'}, {'author': '', 'author_id': 0, 'author_image': '', 'author_url': '', 'byline': 'ECB Reporters Network', 'date': 'Sep 11, 2022', 'headline': 'Kathryn Bryce century sets up comfortable Lightning win over Sunrisers', 'image_path': 'http://p.imgci.com/db/PICTURES/CMS/342300/342375.5.jpg', 'image_path_big': 'http://p.imgci.com/db/PICTURES/CMS/342300/342375.4.jpg', 'object_id': 1334292, 'subheadline': '', 'summary': 'Kirstie Gordon four-for derails Sunrisers after openers add 97-run stand ', 'type': 'story', 'url_component': 'ci'}, {'author': 'Vithushan Ehantharajah', 'author_id': 585, 'author_image': '/db/PICTURES/CMS/216100/216141.png', 'author_url': '/ci/content/story/author.html?author=585', 'byline': 'Vithushan Ehantharajah', 'date': 'Sep 11, 2022', 'genrename': 'Match Analysis', 'headline': \"England's young punks riff off classic set from old rockers Anderson and Broad\", 'image_path': 'http://p.imgci.com/db/PICTURES/CMS/345800/345821.5.jpg', 'image_path_big': 'http://p.imgci.com/db/PICTURES/CMS/345800/345821.4.jpg', 'object_id': 1334287, 'subheadline': '', 'summary': 'Bowlers tighten up at crucial moment to allow one final Bazball blast for the summer', 'type': 'story', 'url_component': 'ci'}, {'author': 'Firdose Moonda', 'author_id': 315, 'author_image': '', 'author_url': '/ci/content/story/author.html?author=315', 'byline': 'Firdose Moonda', 'date': 'Sep 11, 2022', 'genrename': 'Match Analysis', 'headline': \"South Africa's survival guide goes out the window as Ben Stokes shows what it takes to seize the day\", 'image_path': 'http://p.imgci.com/db/PICTURES/CMS/345800/345848.5.jpg', 'image_path_big': 'http://p.imgci.com/db/PICTURES/CMS/345800/345848.4.jpg', 'object_id': 1334278, 'subheadline': '', 'summary': \"Callow batting no match for captain in a hurry to wrap up England's summer\", 'type': 'story', 'url_component': 'ci'}, {'author': 'Andrew Miller', 'author_id': 9, 'author_image': '/db/PICTURES/CMS/103600/103650.1.png', 'author_url': '/ci/content/story/author.html?author=9', 'byline': 'Andrew Miller', 'date': 'Sep 11, 2022', 'headline': 'England frustrated but phlegmatic as bad light defers their moment of victory', 'image_path': 'http://p.imgci.com/db/PICTURES/CMS/345800/345874.5.jpg', 'image_path_big': 'http://p.imgci.com/db/PICTURES/CMS/345800/345874.4.jpg', 'object_id': 1334274, 'subheadline': '', 'summary': 'Anderson, Broad call for common sense to prevail after openers motor towards victory target', 'type': 'story', 'url_component': 'ci'}, {'author': 'Danyal Rasool', 'author_id': 689, 'author_image': '', 'author_url': '/ci/content/story/author.html?author=689', 'byline': 'Danyal Rasool', 'date': 'Sep 11, 2022', 'headline': 'Rajapaksa, Hasaranga, Madushan win the Asia Cup crown for Sri Lanka', 'image_path': 'http://p.imgci.com/db/PICTURES/CMS/345800/345870.5.jpg', 'image_path_big': 'http://p.imgci.com/db/PICTURES/CMS/345800/345870.4.jpg', 'object_id': 1334267, 'subheadline': '', 'summary': 'In the final, Pakistan were outclassed with the bat, outsmarted with the ball and outdone in the field', 'type': 'story', 'url_component': 'ci'}]\n"
          ]
        }
      ]
    },
    {
      "cell_type": "code",
      "source": [
        "# now we will get headlines only\n",
        "#so what we can do is .. see its in distionary format so we can interate in a list using for loop and call each key and it will give us back values in that key..-- just for understanding\n",
        "\n",
        "for i in data:\n",
        "  print(i['author'])\n",
        "  print('\\n')\n"
      ],
      "metadata": {
        "colab": {
          "base_uri": "https://localhost:8080/"
        },
        "id": "3rnUQBeWQyyi",
        "outputId": "c1d85a99-cf98-49f1-f582-f0016c7abcb1"
      },
      "execution_count": 16,
      "outputs": [
        {
          "output_type": "stream",
          "name": "stdout",
          "text": [
            "Shashank Kishore\n",
            "\n",
            "\n",
            "ESPNcricinfo staff\n",
            "\n",
            "\n",
            "ESPNcricinfo staff\n",
            "\n",
            "\n",
            "Shashank Kishore\n",
            "\n",
            "\n",
            "Sampath Bandarupalli\n",
            "\n",
            "\n",
            "\n",
            "\n",
            "\n",
            "Vithushan Ehantharajah\n",
            "\n",
            "\n",
            "Firdose Moonda\n",
            "\n",
            "\n",
            "Andrew Miller\n",
            "\n",
            "\n",
            "Danyal Rasool\n",
            "\n",
            "\n"
          ]
        }
      ]
    },
    {
      "cell_type": "code",
      "source": [
        "for i in data:\n",
        "  print(i['author'] + ' - '+ i['headline'])\n",
        "  print('\\n')\n"
      ],
      "metadata": {
        "colab": {
          "base_uri": "https://localhost:8080/"
        },
        "id": "kGMfQH7LQ3Hy",
        "outputId": "6a2d1241-4776-4f92-ad10-bd4dc67c6193"
      },
      "execution_count": 19,
      "outputs": [
        {
          "output_type": "stream",
          "name": "stdout",
          "text": [
            "Shashank Kishore - Shanaka hopes Asia Cup win triggers 'the turnaround' Sri Lanka cricket needs\n",
            "\n",
            "\n",
            "ESPNcricinfo staff - 'Next target - the World Cup'\n",
            "\n",
            "\n",
            "ESPNcricinfo staff - The Buzz: Dancing Sri Lanka celebrate Asia Cup victory\n",
            "\n",
            "\n",
            "Shashank Kishore - Saqlain unwavering in his 'faith, trust and belief' in Rizwan and Babar\n",
            "\n",
            "\n",
            "Sampath Bandarupalli - Stats - A rare bat-first win in Dubai, and Sri Lanka's remarkable comeback\n",
            "\n",
            "\n",
            " - Kathryn Bryce century sets up comfortable Lightning win over Sunrisers\n",
            "\n",
            "\n",
            "Vithushan Ehantharajah - England's young punks riff off classic set from old rockers Anderson and Broad\n",
            "\n",
            "\n",
            "Firdose Moonda - South Africa's survival guide goes out the window as Ben Stokes shows what it takes to seize the day\n",
            "\n",
            "\n",
            "Andrew Miller - England frustrated but phlegmatic as bad light defers their moment of victory\n",
            "\n",
            "\n",
            "Danyal Rasool - Rajapaksa, Hasaranga, Madushan win the Asia Cup crown for Sri Lanka\n",
            "\n",
            "\n"
          ]
        }
      ]
    },
    {
      "cell_type": "code",
      "source": [
        "# so now u can run it ina a for loop for multiple pages and then save it in a txt file.\n",
        "# do it yourself for practice"
      ],
      "metadata": {
        "id": "bjNyA-6_Q3Dy"
      },
      "execution_count": null,
      "outputs": []
    }
  ]
}